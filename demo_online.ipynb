{
 "cells": [
  {
   "cell_type": "markdown",
   "metadata": {},
   "source": [
    "# Acquaintance immunization in SIR scale free graph : Demo"
   ]
  },
  {
   "cell_type": "markdown",
   "metadata": {},
   "source": [
    "The question we are going to try to answer is :\n",
    "\n",
    "If a vaccine against CO-VID is found tomorrow, which vaccination strategy leads to the suppression of the endemic state for a lowest immunization rate ?\n",
    "\n",
    "\n",
    "We are going to use the SIR model in the context of Sclae free graph"
   ]
  },
  {
   "cell_type": "code",
   "execution_count": 1,
   "metadata": {
    "jupyter": {
     "source_hidden": true
    }
   },
   "outputs": [],
   "source": [
    "\n",
    "\n",
    "from __future__ import print_function\n",
    "from ipywidgets import interact, interactive, fixed, interact_manual\n",
    "import ipywidgets as widgets\n",
    "from utils import *\n",
    "from IPython.display import display\n",
    "\n",
    "\n",
    "\n"
   ]
  },
  {
   "cell_type": "markdown",
   "metadata": {},
   "source": [
    "# Creation of the graph"
   ]
  },
  {
   "cell_type": "markdown",
   "metadata": {},
   "source": [
    "Scale free graph is a fairly modelisation of real human interaction.\n",
    "\n",
    "$\\gamma$, the power of the scale free graph, take its value between 2 and 3. The lowest it is, most importantt is the social distancing.\n",
    "\n"
   ]
  },
  {
   "cell_type": "code",
   "execution_count": 2,
   "metadata": {
    "jupyter": {
     "source_hidden": true
    }
   },
   "outputs": [
    {
     "data": {
      "application/vnd.jupyter.widget-view+json": {
       "model_id": "da456c02d68047e3aa9b62d8c5faaa83",
       "version_major": 2,
       "version_minor": 0
      },
      "text/plain": [
       "interactive(children=(FloatSlider(value=2.9, description='Gamma, the power of the law distribution', max=2.9, …"
      ]
     },
     "metadata": {},
     "output_type": "display_data"
    }
   ],
   "source": [
    "lambda_val_x = widgets.FloatSlider(min=2.1, max=2.9, step=0.1, value=2.9, description='Gamma, the power of the law distribution')\n",
    "num_samples_x = widgets.FloatLogSlider(min=3, max=6, step=1, value=4, description='Number of node in the graph')\n",
    "\n",
    "graphs = interactive(generate_power_law_dg_sequence, {'manual': True}, lambda_val=lambda_val_x, num = num_samples_x, K0 = fixed(2/3), m=fixed(1))\n",
    "\n",
    "\n",
    "display(graphs)\n",
    "\n"
   ]
  },
  {
   "cell_type": "markdown",
   "metadata": {},
   "source": [
    "# SIR model: temporal approach"
   ]
  },
  {
   "cell_type": "markdown",
   "metadata": {},
   "source": [
    "Here we proposed to plot the evolution of the pourcentage if Infected peaople and the Recored people with time.\n",
    "\n",
    "On the rigth, we can observe the evoluation of the the number of Suceptible people an infected individual infects, on average, at each time. In fact, if this number is higher than 1, then the epidemic can reach en endemic state."
   ]
  },
  {
   "cell_type": "code",
   "execution_count": 4,
   "metadata": {
    "jupyter": {
     "source_hidden": true
    }
   },
   "outputs": [
    {
     "data": {
      "application/vnd.jupyter.widget-view+json": {
       "model_id": "d9e5becb609e4d85add3fa000e97f967",
       "version_major": 2,
       "version_minor": 0
      },
      "text/plain": [
       "interactive(children=(Dropdown(description='Type of graph:', options=('The lasgest connected compoenent', 'The…"
      ]
     },
     "metadata": {},
     "output_type": "display_data"
    }
   ],
   "source": [
    "graph_x = widgets.Dropdown(\n",
    "    options=['The lasgest connected compoenent', 'The full graph'],\n",
    "    value='The lasgest connected compoenent',\n",
    "    description='Type of graph:'\n",
    ")\n",
    "\n",
    "\n",
    "b_x = widgets.FloatSlider(min=0, max=1, step=0.05, value=0.25, description='Rate of transmission')\n",
    "m_x = widgets.FloatSlider(min=1, max=21, step=0.5, value=10, description='Time of recovery')\n",
    "indect_start_x = widgets.FloatSlider(min=0.001, max=0.05, step=0.01, value=0.05, description='Pourcentage initialisation')\n",
    "\n",
    "plot_temporel = interactive(get_temporal_plot, {'manual': True}, graph_l = graph_x, b = b_x, m0 = m_x, Tmax=fixed(30), indect_start = indect_start_x, g1=fixed(graphs.result[0]), g2=fixed(graphs.result[1]))\n",
    "\n",
    "display(plot_temporel)"
   ]
  },
  {
   "cell_type": "markdown",
   "metadata": {},
   "source": [
    "### Comments : \n",
    "\n",
    "1- If nothing is done, we will finish  with 69% of the population removed. That’s perfectly match with the worst case scenario proposed by the NYT: 224 millions Americans can be infected by the virus vs 226 millions with this estimation.\n",
    "\n",
    "2- With no exterior agent, the epidemic should stop a time 18, which represent 60% of the population removed"
   ]
  },
  {
   "cell_type": "markdown",
   "metadata": {},
   "source": [
    "# SIR model as bond Percolation: comparaison of the different strategy of vaccination"
   ]
  },
  {
   "cell_type": "markdown",
   "metadata": {},
   "source": [
    "This is a comparasion of the 3 stratgies discuss in the slide. The whole auestion is :\n",
    "\n",
    "How to reach the hub without knowing the exact topology of the graph ?\n",
    "\n",
    "The Acquiatance strategy uses the super useful property graph : \"In average, your friend has more friend than you.\"\n",
    "\n",
    "\n",
    "### The strategy\n",
    "\n",
    "1. Pick K nodes at random in the (S) population\n",
    "\n",
    "2. Look at their direct neighbors who are also (S). They will be the ones who will be immunized/ vaccinated\n",
    "\n",
    "### The advantages\n",
    "\n",
    "1. The strategy is purely local, requiring minimal information about randomly selected nodes and their immediate environment.\n",
    "\n",
    "2. Because, in average, your friend has more friend than you, the neighbors of the node that you pick have, in average, a higher degree than the node"
   ]
  },
  {
   "cell_type": "code",
   "execution_count": 5,
   "metadata": {
    "jupyter": {
     "source_hidden": true
    }
   },
   "outputs": [
    {
     "data": {
      "application/vnd.jupyter.widget-view+json": {
       "model_id": "5a8a81e2e4b84ea58e5f2e09a436c948",
       "version_major": 2,
       "version_minor": 0
      },
      "text/plain": [
       "interactive(children=(Dropdown(description='Type of graph:', options=('The lasgest connected compoenent', 'The…"
      ]
     },
     "metadata": {},
     "output_type": "display_data"
    }
   ],
   "source": [
    "\n",
    "graph_x = widgets.Dropdown(\n",
    "    options=['The lasgest connected compoenent', 'The full graph'],\n",
    "    value='The lasgest connected compoenent',\n",
    "    description='Type of graph:'\n",
    ")\n",
    "b_x = widgets.FloatSlider(min=0, max=1, step=0.05, value=0.25, description='Rate of transmission')\n",
    "m_x = widgets.FloatSlider(min=1, max=21, step=0.5, value=10, description='Time of recovery')\n",
    "indect_start_x = widgets.FloatSlider(min=0.001, max=0.05, step=0.01, value=0.05, description='Pourcentage initialisation')\n",
    "K_x = widgets.FloatSlider(min=0.05, max=0.6, step=0.05, value=0.2, description='Init ask population at random')\n",
    "N_x = widgets.IntSlider(min=1, max=20, step=1, value=5, description='Repeat train')\n",
    "\n",
    "plot_strat = interactive(final_plots_strat, {'manual': True}, graph_l = graph_x, b = b_x, m0 = m_x, Tmax=fixed(30), \n",
    "                         indect_start = indect_start_x, g1=fixed(graphs.result[0]), g2=fixed(graphs.result[1]), \n",
    "                        N=N_x, immunization_rates = fixed([0.01, 0.05, 0.1, 0.2, 0.3, 0.4, 0.5, 0.6, 0.7, 0.8, 0.9]), K=K_x)\n",
    "\n",
    "display(plot_strat)\n"
   ]
  },
  {
   "cell_type": "markdown",
   "metadata": {},
   "source": [
    "\n",
    "|                                                                                    | Random | Targeted |  Acquitance K = 20% |\n",
    "|:----------------------------------------------------------------------------------:|:------:|:--------:|:-------------------:|\n",
    "| Percentage of the population  vaccinacte in order to pass  the threshold condition |  85%`  |    5%    |         30%         |\n",
    "\n",
    "\n",
    "### Comments : \n",
    "\n",
    "1- Random immunisation is not an efficient strategy\n",
    "\n",
    "2- Targeted the hubs of the networks are super efficient strategy, but implies that we know the graph (which is not true)"
   ]
  },
  {
   "cell_type": "code",
   "execution_count": null,
   "metadata": {},
   "outputs": [],
   "source": []
  }
 ],
 "metadata": {
  "kernelspec": {
   "display_name": "Python 3",
   "language": "python",
   "name": "python3"
  },
  "language_info": {
   "codemirror_mode": {
    "name": "ipython",
    "version": 3
   },
   "file_extension": ".py",
   "mimetype": "text/x-python",
   "name": "python",
   "nbconvert_exporter": "python",
   "pygments_lexer": "ipython3",
   "version": "3.6.9"
  }
 },
 "nbformat": 4,
 "nbformat_minor": 4
}
